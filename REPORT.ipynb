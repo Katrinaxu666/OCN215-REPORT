{
 "cells": [
  {
   "cell_type": "code",
   "execution_count": 1,
   "id": "2743e421-15b6-42d6-a618-1e7ed2da610a",
   "metadata": {
    "tags": []
   },
   "outputs": [],
   "source": [
    "import matplotlib.pyplot as plt # for plotting \n",
    "import pandas as pd  # for data manipulation         \n",
    "import cartopy.crs as ccrs # for mapping\n",
    "import cartopy.feature as cfeature\n",
    "from matplotlib import cm\n",
    "import numpy as np # for numerical operations"
   ]
  },
  {
   "cell_type": "markdown",
   "id": "3ef08846-924c-4a43-9d9a-caf69a320591",
   "metadata": {
    "tags": []
   },
   "source": [
    "# EXPLORING SUBMARINE EARTHQUAKES ON THE RING OF FIRE \n",
    "\n",
    "\n",
    "**KATRINA XU**  \n",
    "\n",
    "\n",
    "OCEAN 215 Final Project  \n",
    "Autumn 2024"
   ]
  },
  {
   "cell_type": "markdown",
   "id": "cbb3b484-c0d1-4154-9b8e-940f05b63a53",
   "metadata": {},
   "source": [
    "## Introduction\n",
    "\n",
    "<!-- Include your motivation and any background information needed to understand your research question and data analysis. Clearly state your research question and hypothesis. -->\n",
    "\n",
    "\n",
    "\n",
    "During the summer break, two earthquakes of around 5.0 magnitude occurred in my hometown (Anhui, China). As someone who experienced an earthquake for the first time, this event sparked my interest in studying earthquakes. This curiosity led me to focus my project on seismology. While reviewing various materials, I became particularly intrigued by the study of earthquakes along the Pacific Ring of Fire. The tectonic activity in this region is complex, and it is the primary location for over 90% of the world's earthquakes. Therefore, studying this area is of significant importance for future seismological research. \n",
    "\n",
    "In my project, I stated the hypothesis that locations where relatively large earthquakes have occurred in the past 30 days are more likely to experience further seismic activity in the future. Throughout the process of creating this project, I encountered numerous challenges, raised many questions, and conducted further reflections. But overall, I learned a lot."
   ]
  },
  {
   "cell_type": "markdown",
   "id": "32255486-9337-4438-bde6-2142bd2a39ea",
   "metadata": {},
   "source": [
    "## Data sources:\n",
    "<!-- List each data source used in your project. For each dataset, include: \n",
    "     - Where you accessed it from \n",
    "     - Date you accessed/downloaded it \n",
    "     - Data collection process\n",
    "     - Relevant variables (including unit) \n",
    "     - Spatial and temporal coverage and resolution \n",
    "     - Description of any obstacles or challenges you faced in obtaining the dataset\n",
    "     - URL to the dataset if available -->\n",
    "\n",
    "- {Dataset 1}\n",
    "  - Downloaded from KAGGLE.\n",
    "  - Relevant variables included: \n",
    "    - {Variable 1 including latitudes and longitudes} \n",
    "    - {Variable 2 including magnitudes of earthquakes.} \n",
    "  - Spatial coverage and resolution: {global}, {30, 60 degress grid}\n",
    "  - Obstacles to data access: This dataset countains too many data, that loading this data cost much more time than I thought.\n",
    "  - Temporal coverage and resolution: {none}, {1990-2023} \n",
    "  - URL to dataset: https://www.kaggle.com/datasets/alessandrolobello/the-ultimate-earthquake-dataset-from-1990-2023/data \n",
    "<br>\n",
    "- {Dataset 2}\n",
    "  - Downloaded from USGS.\n",
    "   - Relevant variables included: \n",
    "     - {Variable 1 including latitudes and longitudes} \n",
    "     - {Variable 2 including magnitudes of earthquakes.} \n",
    "  - Spatial coverage and resolution: {pacific}, {30, 60 degrees grid} {1-degree grid} \n",
    "  - Temporal coverage and resolution: {none}, {11.2.2024-12.2.2024} \n",
    "  - URL to dataset: https://earthquake.usgs.gov/earthquakes/search/ "
   ]
  },
  {
   "cell_type": "markdown",
   "id": "efd639fc-f10d-45bc-a4c1-0c28a130a437",
   "metadata": {},
   "source": [
    "## 1. EXPLORE GLOBAL EARTHQUAKE TREND \n",
    "\n",
    "\n",
    "\n",
    "I am wording with the dataset downloaded from KAGGLE.This section would give a broad view of global earthquake trends, I use this graph to show that majority of the earthquakes are happening on the Pacific Ring Of Fire. The figure I produce will show about 3.5 million earthquakes and their magnitudes and locations."
   ]
  },
  {
   "cell_type": "code",
   "execution_count": 2,
   "id": "d823871a-1bf7-465d-906f-67c63325f48a",
   "metadata": {
    "tags": []
   },
   "outputs": [],
   "source": [
    "import pandas as pd\n",
    "import matplotlib.pyplot as plt\n",
    "import cartopy.crs as ccrs\n",
    "import cartopy.feature as cfeature\n",
    "import warnings\n",
    "\n",
    "# Aim to avoid errors. I learned it from CSDN blog.\n",
    "warnings.filterwarnings(\"ignore\", category=UserWarning, module='cartopy')\n",
    "\n",
    "# Read the csv file, and in order to prevent column errors, print columns first\n",
    "df = pd.read_csv('1990-2023.csv')\n",
    "print(df.columns)"
   ]
  },
  {
   "cell_type": "code",
   "execution_count": 3,
   "id": "100039bc-51c5-43e6-bb00-bfbf637ca585",
   "metadata": {
    "tags": []
   },
   "outputs": [],
   "source": [
    "# There is a column named magnitudo which is weird. Changed its name, and create figure.\n",
    "df.rename(columns={'magnitudo': 'magnitude'}, inplace=True)\n",
    "fig, ax = plt.subplots(figsize=(12, 8), subplot_kw={'projection': ccrs.PlateCarree()})\n",
    "\n",
    "# Feature adding.\n",
    "ax.add_feature(cfeature.COASTLINE)\n",
    "ax.add_feature(cfeature.BORDERS, linestyle=':')\n",
    "ax.add_feature(cfeature.LAND, edgecolor='black')\n",
    "ax.gridlines(draw_labels=True)"
   ]
  },
  {
   "cell_type": "code",
   "execution_count": 4,
   "id": "5f0c56ad-c1c6-4253-9f50-2f97a5396b89",
   "metadata": {
    "tags": []
   },
   "outputs": [],
   "source": [
    "# Create scatters for the graph. Learned from CSDN blog.\n",
    "scatter = ax.scatter(df['longitude'], df['latitude'], c=df['magnitude'], cmap='viridis', ma"
   ]
  },
  {
   "cell_type": "code",
   "execution_count": 5,
   "id": "187fdf0a-b93a-4bd6-941f-25005b94d0d1",
   "metadata": {
    "tags": []
   },
   "outputs": [],
   "source": [
    "# Color bar plot.\n",
    "plt.colorbar(scatter, ax=ax, label='Magnitude')\n",
    "# Figure plot.\n",
    "plt.title('Earthquake Magnitude vs. Location with Depth Representation')\n",
    "plt.tight_layout()\n",
    "plt.show()   \n",
    "plt.savefig('/Users/katrinaxu/Desktop') # Saved to my personal computer.\n",
    "# I still have errors when running this code, and I have no idea how to solve."
   ]
  },
  {
   "cell_type": "markdown",
   "id": "6e5091d8-ebb4-4835-bed4-4257d53afa0b",
   "metadata": {},
   "source": [
    "<!-- Describe how this figure helps address your research question. What patterns or insights can you observe? -->\n",
    "**Figure 1 Caption:** Earthquake Magnitude vs. Location with Depth Representation."
   ]
  },
  {
   "cell_type": "markdown",
   "id": "ba4015f5-8d5f-445c-bee8-b2e480826935",
   "metadata": {},
   "source": [
    "## 2. MAPPING EARTHQUAKES HAPPENED IN THE PAST 30 DAYS  \n",
    "\n",
    "<!-- In the introduction below, specify the data set(s) you are working with in this section, which aspect of your research question this section addresses, and the figure you will produce -->\n",
    "This time I first sorted the data from USGS earthquake database, I chose \" >maginitude 4.5\" and \" within 30 days\" and \" global\". With these lables, I successfully downloaded the data I wanted. This dataset would help me to look at the question I wanted to explore in a closer view."
   ]
  },
  {
   "cell_type": "code",
   "execution_count": 6,
   "id": "60f4144c-a89c-4877-b2b1-2199810fd996",
   "metadata": {
    "tags": []
   },
   "outputs": [],
   "source": [
    "import pandas as pd\n",
    "import matplotlib.pyplot as plt\n",
    "import cartopy.crs as ccrs\n",
    "import cartopy.feature as cfeature\n",
    "from matplotlib import cm\n",
    "import numpy as np\n",
    "\n",
    "# Load earthquake data.\n",
    "df = pd.read_csv('30.csv')\n",
    "print(df.columns) "
   ]
  },
  {
   "cell_type": "code",
   "execution_count": 7,
   "id": "def0e6cf-2973-491d-9934-d8cd44cfcbd0",
   "metadata": {
    "tags": []
   },
   "outputs": [],
   "source": [
    "# Create a map with cartopy.\n",
    "fig, ax = plt.subplots(figsize=(12, 8), subplot_kw={'projection': ccrs.PlateCarree()})\n",
    "ax.set_global()\n",
    "\n",
    "# Add some features to the map, I reduced the coverage of latitudes &longitudes to make it more focus on the Pacific regions.\n",
    "ax.add_feature(cfeature.COASTLINE)\n",
    "ax.add_feature(cfeature.BORDERS, linestyle=':')\n",
    "ax.add_feature(cfeature.LAND, edgecolor='black')\n",
    "ax.set_extent([-180, 180, -60, 60], crs=ccrs.PlateCarree())\n",
    "\n",
    "# Add gridlines and labels.\n",
    "ax.gridlines(draw_labels=True)\n",
    "\n",
    "# Normalize the magnitude for color mapping, I learned it from CSDN blog.\n",
    "norm = plt.Normalize(vmin=df['mag'].min(), vmax=df['mag'].max())\n",
    "cmap = cm.viridis"
   ]
  },
  {
   "cell_type": "code",
   "execution_count": 8,
   "id": "6d43f6bd-4f98-45bd-a7ba-6b46873f4811",
   "metadata": {
    "tags": []
   },
   "outputs": [],
   "source": [
    "# Create the scatter plot for the graph.\n",
    "scatter = ax.scatter(\n",
    "    df['longitude'], df['latitude'], c=df['mag'], cmap=cmap, \n",
    "    marker='o', s=df['depth'] * 0.1, norm=norm, alpha=0.7\n",
    ")\n",
    "\n",
    "# Add a color bar, and show the graph.\n",
    "plt.colorbar(scatter, ax=ax, label='Magnitude')\n",
    "plt.title('Earthquake for the Past 30 days')\n",
    "plt.tight_layout()\n",
    "plt.show()"
   ]
  },
  {
   "cell_type": "markdown",
   "id": "cc2b8df7-25ff-4ab3-9c52-f3c687b2d2e8",
   "metadata": {},
   "source": [
    "<!-- Describe how this figure helps address your research question. What patterns or insights can you observe? -->\n",
    "**Figure 2 Caption:** Earthquakes For The Past 30 Days."
   ]
  },
  {
   "cell_type": "markdown",
   "id": "1b8ea48e-f244-4a23-b289-e2ffc08d4ed3",
   "metadata": {},
   "source": [
    "## 3. SORT 10 EARTHQUAKES THAT HAVE THE HIGHEST MAGNITUDES.\n",
    "\n",
    "<!-- In the introduction below, specify the data set(s) you are working with in this section, which aspect of your research question this section addresses, and the figure you will produce -->\n",
    "\n",
    "I pick 10 earthquakes with the highest magnitudes among the 413 earthquakes happened globally last month with magnitudes over 4.5. I did this process to see where these 10 earthquakes happen, then determine which locatoins will have the highest possibility for future earthquake occurance."
   ]
  },
  {
   "cell_type": "code",
   "execution_count": 9,
   "id": "94239082-de2e-4786-9522-1c81bed1c0b4",
   "metadata": {
    "tags": []
   },
   "outputs": [],
   "source": [
    "import pandas as pd\n",
    "import numpy as np\n",
    "import matplotlib.pyplot as plt\n",
    "from datetime import datetime, timedelta\n",
    "import pytz\n",
    "\n",
    "# Load data, adjust datetimes across different time zones. This is the same dataset with the last question, but different processing methods.\n",
    "df = pd.read_csv('30.csv')\n",
    "df['time'] = pd.to_datetime(df['time'], utc=True) \n",
    "end_date = datetime.now(pytz.UTC)  \n",
    "start_date = end_date - timedelta(days=30)\n",
    "df_recent = df[(df['time'] >= start_date) & (df['time'] <= end_date)]"
   ]
  },
  {
   "cell_type": "code",
   "execution_count": 10,
   "id": "63ccab2e-6597-4d3f-a7c0-eaedbea9c345",
   "metadata": {
    "tags": []
   },
   "outputs": [],
   "source": [
    "# Sort the 10 earthquakes for future plotting, and create latitude and longitude bins. I learned it from CSDN blog.\n",
    "df_top_10 = df_recent.nlargest(10, 'mag')\n",
    "lat_bins = np.arange(-90, 90, 1)  \n",
    "lon_bins = np.arange(-180, 180, 1)  \n",
    "df_top_10['lat_bin'] = pd.cut(df_top_10['latitude'], bins=lat_bins)\n",
    "df_top_10['lon_bin'] = pd.cut(df_top_10['longitude'], bins=lon_bins)\n",
    "\n",
    "# Create left and right boundaries, also learned from CSDN blog.\n",
    "df_top_10['lat_min'] = df_top_10['lat_bin'].apply(lambda x: x.left)\n",
    "df_top_10['lat_max'] = df_top_10['lat_bin'].apply(lambda x: x.right)\n",
    "df_top_10['lon_min'] = df_top_10['lon_bin'].apply(lambda x: x.left)\n",
    "df_top_10['lon_max'] = df_top_10['lon_bin'].apply(lambda x: x.right)\n",
    "\n",
    "# extract the top 10 data in an ascending order.\n",
    "df_top_10_sorted = df_top_10.sort_values('mag', ascending=True)\n",
    "\n",
    "# Avoid errors, I asked a friend major in Comp Sci how to write and understand this line.\n",
    "df_top_10_sorted['lat_min'] = df_top_10_sorted['lat_min'].fillna(0).astype(int)\n",
    "df_top_10_sorted['lon_min'] = df_top_10_sorted['lon_min'].fillna(0).astype(int)"
   ]
  },
  {
   "cell_type": "code",
   "execution_count": 11,
   "id": "b28f2e82-8955-4fb4-81ff-56c8ef2dc075",
   "metadata": {
    "tags": []
   },
   "outputs": [],
   "source": [
    "# Plot.\n",
    "df_top_10_sorted['location'] = 'Lat: ' + df_top_10_sorted['lat_min'].astype(str) + '°, Lon: ' + df_top_10_sorted['lon_min'].astype(str) + '°'\n",
    "fig, ax = plt.subplots(figsize=(12, 6))\n",
    "ax.plot(df_top_10_sorted['location'], df_top_10_sorted['mag'], marker='o', linestyle='-', color='tab:blue')\n",
    "ax.set_title('The 10 Largest Earthquake That Occurred in the Past 30 Days.', fontsize=14)\n",
    "ax.set_xlabel('Location (Latitude and Longitude)', fontsize=12)\n",
    "ax.set_ylabel('Magnitude', fontsize=12)\n",
    "plt.xticks(rotation=45) # Rotate it a bit (45 degrees) avoid folding.\n",
    "plt.tight_layout()\n",
    "plt.show()"
   ]
  },
  {
   "cell_type": "markdown",
   "id": "d2006079-2a51-4951-b22e-2496389b2cdb",
   "metadata": {},
   "source": [
    "<!-- Describe how this figure helps address your research question. What patterns or insights can you observe? -->\n",
    "**Figure 3 Caption:** The 10 Largest Earthquakes That Happend In The Past 30 Days"
   ]
  },
  {
   "cell_type": "markdown",
   "id": "bf714377-641b-450d-a411-c16753ba2368",
   "metadata": {},
   "source": [
    "## Discussion\n",
    "**Interpretation of Results:**  \n",
    "Based on the results from my final figure, the four areas most likely to experience the next earthquake of magnitude greater than 4.5 along the Pacific Ring of Fire are the Sea of Japan, the Philippine Sea, Papua New Guinea, and the South Pacific. According to previous research, these regions have indeed experienced large earthquakes in history, which supports the validity of my hypothesis.\n",
    "<!-- Summarize what you learned from each data analysis section/figure. Discuss key insights and conclusions regarding your research question. Do your results support or contradict your hypothesis? -->\n",
    "\n",
    "**Limitations and Future Work:**  *(Write ~1 paragraph below)*\n",
    "I encountered several challenges during this project. First, while creating the initial figure, I faced continuous errors. Although I eventually produced a figure, the errors remained unresolved. Second, I was unable to remove the negative values from the color bar, which made the final figures appear inconsistent. For future work, I plan to continue exploring seismic-related topics and aim to pursue further research in this field."
   ]
  },
  {
   "cell_type": "markdown",
   "id": "e9c30d77-0f2d-4320-bf3b-e9e053b6a8ec",
   "metadata": {},
   "source": [
    "## References  \n",
    "\n",
    "\n",
    "\n",
    "1. **NOAA** \n",
    "What is the Ring of Fire?. What is the Ring of Fire? : Ocean Exploration Facts: NOAA Office of Ocean Exploration and Research. (n.d.). https://oceanexplorer.noaa.gov/facts/rof.html  \n",
    "\n",
    "2. **EARTH SKY**\n",
    "The ring of fire, where volcanoes and earthquakes reign. EarthSky. (2023, July 22). https://earthsky.org/earth/what-is-the-ring-of-fire/ \n",
    "\n",
    "3. **USGS**\n",
    "Understanding plate motions [this dynamic earth, USGS]. (n.d.). https://pubs.usgs.gov/gip/dynamic/understanding.html \n",
    "\n",
    "4. **ArcGIS**\n",
    "Ring of Fire. Experience. (n.d.). https://experience.arcgis.com/experience/fab4843bbf684021a18f967847be39ae/page/Recent-Earthquakes/ \n",
    "\n",
    "5. **CSDN**\n",
    "Python地图绘制. python地图绘制 (Python Mapping). (n.d.). https://blog.csdn.net/2301_79416346/article/details/138958229 \n",
    "Python数据可视化：如何创建散点图 (Python Scatter Mapping). (n.d.). https://blog.csdn.net/weixin_42731853/article/details/107812921 \n"
   ]
  },
  {
   "cell_type": "code",
   "execution_count": null,
   "id": "9d8bec84-40d4-43e0-b96c-2d94bd9cfb69",
   "metadata": {},
   "outputs": [],
   "source": []
  }
 ],
 "metadata": {
  "kernelspec": {
   "display_name": "Python 3 (ipykernel)",
   "language": "python",
   "name": "python3"
  },
  "language_info": {
   "codemirror_mode": {
    "name": "ipython",
    "version": 3
   },
   "file_extension": ".py",
   "mimetype": "text/x-python",
   "name": "python",
   "nbconvert_exporter": "python",
   "pygments_lexer": "ipython3",
   "version": "3.10.10"
  }
 },
 "nbformat": 4,
 "nbformat_minor": 5
}
